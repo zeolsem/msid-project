{
 "cells": [
  {
   "metadata": {},
   "cell_type": "markdown",
   "source": "## This is just for me to play with the data before starting the assignment",
   "id": "8187268593526edf"
  },
  {
   "metadata": {},
   "cell_type": "markdown",
   "source": [
    "### 1. Setting up the project\n",
    "Necessary imports and loading the dataset."
   ],
   "id": "b0fb29b8b10fb277"
  },
  {
   "metadata": {
    "ExecuteTime": {
     "end_time": "2025-03-25T13:33:25.990630Z",
     "start_time": "2025-03-25T13:33:25.988120Z"
    }
   },
   "cell_type": "code",
   "source": [
    "import pandas as pd\n",
    "import numpy as np\n",
    "import matplotlib.pyplot as plt\n",
    "import seaborn as sns\n",
    "plt.style.use('ggplot')"
   ],
   "id": "17e5d4b53560f51f",
   "outputs": [],
   "execution_count": 257
  },
  {
   "metadata": {
    "ExecuteTime": {
     "end_time": "2025-03-25T13:33:26.017795Z",
     "start_time": "2025-03-25T13:33:26.002011Z"
    }
   },
   "cell_type": "code",
   "source": [
    "# Loading the dataset \n",
    "df = pd.read_csv('data/billionaires_statistics_dataset.csv')"
   ],
   "id": "b400885bb69d2640",
   "outputs": [],
   "execution_count": 258
  },
  {
   "metadata": {
    "ExecuteTime": {
     "end_time": "2025-03-25T13:33:26.052943Z",
     "start_time": "2025-03-25T13:33:26.049829Z"
    }
   },
   "cell_type": "code",
   "source": "df.shape",
   "id": "eeb05889396714bf",
   "outputs": [
    {
     "data": {
      "text/plain": [
       "(2640, 35)"
      ]
     },
     "execution_count": 259,
     "metadata": {},
     "output_type": "execute_result"
    }
   ],
   "execution_count": 259
  },
  {
   "metadata": {},
   "cell_type": "markdown",
   "source": [
    "### 2. Data cleaning\n",
    "So, our data has approx. 2.5k rows and 35 columns. Let's see how well they are filled with data."
   ],
   "id": "aaf688112f7481d4"
  },
  {
   "metadata": {
    "ExecuteTime": {
     "end_time": "2025-03-25T13:33:26.107632Z",
     "start_time": "2025-03-25T13:33:26.101216Z"
    }
   },
   "cell_type": "code",
   "source": "df.isna().sum()",
   "id": "8e1c14d5fe3a577e",
   "outputs": [
    {
     "data": {
      "text/plain": [
       "rank                                             0\n",
       "finalWorth                                       0\n",
       "category                                         0\n",
       "personName                                       0\n",
       "age                                             65\n",
       "country                                         38\n",
       "city                                            72\n",
       "source                                           0\n",
       "industries                                       0\n",
       "countryOfCitizenship                             0\n",
       "organization                                  2315\n",
       "selfMade                                         0\n",
       "status                                           0\n",
       "gender                                           0\n",
       "birthDate                                       76\n",
       "lastName                                         0\n",
       "firstName                                        3\n",
       "title                                         2301\n",
       "date                                             0\n",
       "state                                         1887\n",
       "residenceStateRegion                          1893\n",
       "birthYear                                       76\n",
       "birthMonth                                      76\n",
       "birthDay                                        76\n",
       "cpi_country                                    184\n",
       "cpi_change_country                             184\n",
       "gdp_country                                    164\n",
       "gross_tertiary_education_enrollment            182\n",
       "gross_primary_education_enrollment_country     181\n",
       "life_expectancy_country                        182\n",
       "tax_revenue_country_country                    183\n",
       "total_tax_rate_country                         182\n",
       "population_country                             164\n",
       "latitude_country                               164\n",
       "longitude_country                              164\n",
       "dtype: int64"
      ]
     },
     "execution_count": 260,
     "metadata": {},
     "output_type": "execute_result"
    }
   ],
   "execution_count": 260
  },
  {
   "metadata": {},
   "cell_type": "markdown",
   "source": [
    "Age/birthday related columns, country and city columns have some NaN values. We could delete the rows with them or fill them with some average values, but in case of country and city this does not make sense, so we will just keep in mind that we have to work around them.\n",
    "\n",
    "On the other hand, organization, title, state and residenceStateRegion are almost all null values, so I will just drop those columns as they don't bring any useful information to us.\n",
    "\n",
    "There are many columns with some values missing and I will just assume that the rows they are missing from are not scattered round but a one or two groups of rows, as the number of missing values is ~180 in one group and ~160 in another."
   ],
   "id": "640caa758fbd8fe6"
  },
  {
   "metadata": {
    "ExecuteTime": {
     "end_time": "2025-03-25T13:33:26.178222Z",
     "start_time": "2025-03-25T13:33:26.174649Z"
    }
   },
   "cell_type": "code",
   "source": "df.drop(['title', 'state', 'residenceStateRegion', 'organization'], axis=1, inplace=True)",
   "id": "96476e8c21984bd5",
   "outputs": [],
   "execution_count": 261
  },
  {
   "metadata": {},
   "cell_type": "markdown",
   "source": "Let's also check for duplicates:",
   "id": "bae4b5bd1a6d30bc"
  },
  {
   "metadata": {
    "ExecuteTime": {
     "end_time": "2025-03-25T13:33:26.234985Z",
     "start_time": "2025-03-25T13:33:26.220498Z"
    }
   },
   "cell_type": "code",
   "source": "df.loc[df.duplicated()]",
   "id": "36d356f0f7cfb4d1",
   "outputs": [
    {
     "data": {
      "text/plain": [
       "Empty DataFrame\n",
       "Columns: [rank, finalWorth, category, personName, age, country, city, source, industries, countryOfCitizenship, selfMade, status, gender, birthDate, lastName, firstName, date, birthYear, birthMonth, birthDay, cpi_country, cpi_change_country, gdp_country, gross_tertiary_education_enrollment, gross_primary_education_enrollment_country, life_expectancy_country, tax_revenue_country_country, total_tax_rate_country, population_country, latitude_country, longitude_country]\n",
       "Index: []\n",
       "\n",
       "[0 rows x 31 columns]"
      ],
      "text/html": [
       "<div>\n",
       "<style scoped>\n",
       "    .dataframe tbody tr th:only-of-type {\n",
       "        vertical-align: middle;\n",
       "    }\n",
       "\n",
       "    .dataframe tbody tr th {\n",
       "        vertical-align: top;\n",
       "    }\n",
       "\n",
       "    .dataframe thead th {\n",
       "        text-align: right;\n",
       "    }\n",
       "</style>\n",
       "<table border=\"1\" class=\"dataframe\">\n",
       "  <thead>\n",
       "    <tr style=\"text-align: right;\">\n",
       "      <th></th>\n",
       "      <th>rank</th>\n",
       "      <th>finalWorth</th>\n",
       "      <th>category</th>\n",
       "      <th>personName</th>\n",
       "      <th>age</th>\n",
       "      <th>country</th>\n",
       "      <th>city</th>\n",
       "      <th>source</th>\n",
       "      <th>industries</th>\n",
       "      <th>countryOfCitizenship</th>\n",
       "      <th>...</th>\n",
       "      <th>cpi_change_country</th>\n",
       "      <th>gdp_country</th>\n",
       "      <th>gross_tertiary_education_enrollment</th>\n",
       "      <th>gross_primary_education_enrollment_country</th>\n",
       "      <th>life_expectancy_country</th>\n",
       "      <th>tax_revenue_country_country</th>\n",
       "      <th>total_tax_rate_country</th>\n",
       "      <th>population_country</th>\n",
       "      <th>latitude_country</th>\n",
       "      <th>longitude_country</th>\n",
       "    </tr>\n",
       "  </thead>\n",
       "  <tbody>\n",
       "  </tbody>\n",
       "</table>\n",
       "<p>0 rows × 31 columns</p>\n",
       "</div>"
      ]
     },
     "execution_count": 262,
     "metadata": {},
     "output_type": "execute_result"
    }
   ],
   "execution_count": 262
  },
  {
   "metadata": {},
   "cell_type": "markdown",
   "source": "There is no duplicates in our table.",
   "id": "c8cd2eb276bda04b"
  },
  {
   "metadata": {
    "ExecuteTime": {
     "end_time": "2025-03-25T13:33:26.308459Z",
     "start_time": "2025-03-25T13:33:26.305710Z"
    }
   },
   "cell_type": "code",
   "source": "df.shape",
   "id": "b8260bfadb37ce75",
   "outputs": [
    {
     "data": {
      "text/plain": [
       "(2640, 31)"
      ]
     },
     "execution_count": 263,
     "metadata": {},
     "output_type": "execute_result"
    }
   ],
   "execution_count": 263
  },
  {
   "metadata": {
    "ExecuteTime": {
     "end_time": "2025-03-25T13:33:26.370500Z",
     "start_time": "2025-03-25T13:33:26.354334Z"
    }
   },
   "cell_type": "code",
   "source": "df.head()",
   "id": "5a37f55737ef06d5",
   "outputs": [
    {
     "data": {
      "text/plain": [
       "   rank  finalWorth               category                personName   age  \\\n",
       "0     1      211000       Fashion & Retail  Bernard Arnault & family  74.0   \n",
       "1     2      180000             Automotive                 Elon Musk  51.0   \n",
       "2     3      114000             Technology                Jeff Bezos  59.0   \n",
       "3     4      107000             Technology             Larry Ellison  78.0   \n",
       "4     5      106000  Finance & Investments            Warren Buffett  92.0   \n",
       "\n",
       "         country    city              source             industries  \\\n",
       "0         France   Paris                LVMH       Fashion & Retail   \n",
       "1  United States  Austin       Tesla, SpaceX             Automotive   \n",
       "2  United States  Medina              Amazon             Technology   \n",
       "3  United States   Lanai              Oracle             Technology   \n",
       "4  United States   Omaha  Berkshire Hathaway  Finance & Investments   \n",
       "\n",
       "  countryOfCitizenship  ...  cpi_change_country           gdp_country  \\\n",
       "0               France  ...                 1.1   $2,715,518,274,227    \n",
       "1        United States  ...                 7.5  $21,427,700,000,000    \n",
       "2        United States  ...                 7.5  $21,427,700,000,000    \n",
       "3        United States  ...                 7.5  $21,427,700,000,000    \n",
       "4        United States  ...                 7.5  $21,427,700,000,000    \n",
       "\n",
       "  gross_tertiary_education_enrollment  \\\n",
       "0                                65.6   \n",
       "1                                88.2   \n",
       "2                                88.2   \n",
       "3                                88.2   \n",
       "4                                88.2   \n",
       "\n",
       "  gross_primary_education_enrollment_country life_expectancy_country  \\\n",
       "0                                      102.5                    82.5   \n",
       "1                                      101.8                    78.5   \n",
       "2                                      101.8                    78.5   \n",
       "3                                      101.8                    78.5   \n",
       "4                                      101.8                    78.5   \n",
       "\n",
       "  tax_revenue_country_country total_tax_rate_country  population_country  \\\n",
       "0                        24.2                   60.7          67059887.0   \n",
       "1                         9.6                   36.6         328239523.0   \n",
       "2                         9.6                   36.6         328239523.0   \n",
       "3                         9.6                   36.6         328239523.0   \n",
       "4                         9.6                   36.6         328239523.0   \n",
       "\n",
       "   latitude_country  longitude_country  \n",
       "0         46.227638           2.213749  \n",
       "1         37.090240         -95.712891  \n",
       "2         37.090240         -95.712891  \n",
       "3         37.090240         -95.712891  \n",
       "4         37.090240         -95.712891  \n",
       "\n",
       "[5 rows x 31 columns]"
      ],
      "text/html": [
       "<div>\n",
       "<style scoped>\n",
       "    .dataframe tbody tr th:only-of-type {\n",
       "        vertical-align: middle;\n",
       "    }\n",
       "\n",
       "    .dataframe tbody tr th {\n",
       "        vertical-align: top;\n",
       "    }\n",
       "\n",
       "    .dataframe thead th {\n",
       "        text-align: right;\n",
       "    }\n",
       "</style>\n",
       "<table border=\"1\" class=\"dataframe\">\n",
       "  <thead>\n",
       "    <tr style=\"text-align: right;\">\n",
       "      <th></th>\n",
       "      <th>rank</th>\n",
       "      <th>finalWorth</th>\n",
       "      <th>category</th>\n",
       "      <th>personName</th>\n",
       "      <th>age</th>\n",
       "      <th>country</th>\n",
       "      <th>city</th>\n",
       "      <th>source</th>\n",
       "      <th>industries</th>\n",
       "      <th>countryOfCitizenship</th>\n",
       "      <th>...</th>\n",
       "      <th>cpi_change_country</th>\n",
       "      <th>gdp_country</th>\n",
       "      <th>gross_tertiary_education_enrollment</th>\n",
       "      <th>gross_primary_education_enrollment_country</th>\n",
       "      <th>life_expectancy_country</th>\n",
       "      <th>tax_revenue_country_country</th>\n",
       "      <th>total_tax_rate_country</th>\n",
       "      <th>population_country</th>\n",
       "      <th>latitude_country</th>\n",
       "      <th>longitude_country</th>\n",
       "    </tr>\n",
       "  </thead>\n",
       "  <tbody>\n",
       "    <tr>\n",
       "      <th>0</th>\n",
       "      <td>1</td>\n",
       "      <td>211000</td>\n",
       "      <td>Fashion &amp; Retail</td>\n",
       "      <td>Bernard Arnault &amp; family</td>\n",
       "      <td>74.0</td>\n",
       "      <td>France</td>\n",
       "      <td>Paris</td>\n",
       "      <td>LVMH</td>\n",
       "      <td>Fashion &amp; Retail</td>\n",
       "      <td>France</td>\n",
       "      <td>...</td>\n",
       "      <td>1.1</td>\n",
       "      <td>$2,715,518,274,227</td>\n",
       "      <td>65.6</td>\n",
       "      <td>102.5</td>\n",
       "      <td>82.5</td>\n",
       "      <td>24.2</td>\n",
       "      <td>60.7</td>\n",
       "      <td>67059887.0</td>\n",
       "      <td>46.227638</td>\n",
       "      <td>2.213749</td>\n",
       "    </tr>\n",
       "    <tr>\n",
       "      <th>1</th>\n",
       "      <td>2</td>\n",
       "      <td>180000</td>\n",
       "      <td>Automotive</td>\n",
       "      <td>Elon Musk</td>\n",
       "      <td>51.0</td>\n",
       "      <td>United States</td>\n",
       "      <td>Austin</td>\n",
       "      <td>Tesla, SpaceX</td>\n",
       "      <td>Automotive</td>\n",
       "      <td>United States</td>\n",
       "      <td>...</td>\n",
       "      <td>7.5</td>\n",
       "      <td>$21,427,700,000,000</td>\n",
       "      <td>88.2</td>\n",
       "      <td>101.8</td>\n",
       "      <td>78.5</td>\n",
       "      <td>9.6</td>\n",
       "      <td>36.6</td>\n",
       "      <td>328239523.0</td>\n",
       "      <td>37.090240</td>\n",
       "      <td>-95.712891</td>\n",
       "    </tr>\n",
       "    <tr>\n",
       "      <th>2</th>\n",
       "      <td>3</td>\n",
       "      <td>114000</td>\n",
       "      <td>Technology</td>\n",
       "      <td>Jeff Bezos</td>\n",
       "      <td>59.0</td>\n",
       "      <td>United States</td>\n",
       "      <td>Medina</td>\n",
       "      <td>Amazon</td>\n",
       "      <td>Technology</td>\n",
       "      <td>United States</td>\n",
       "      <td>...</td>\n",
       "      <td>7.5</td>\n",
       "      <td>$21,427,700,000,000</td>\n",
       "      <td>88.2</td>\n",
       "      <td>101.8</td>\n",
       "      <td>78.5</td>\n",
       "      <td>9.6</td>\n",
       "      <td>36.6</td>\n",
       "      <td>328239523.0</td>\n",
       "      <td>37.090240</td>\n",
       "      <td>-95.712891</td>\n",
       "    </tr>\n",
       "    <tr>\n",
       "      <th>3</th>\n",
       "      <td>4</td>\n",
       "      <td>107000</td>\n",
       "      <td>Technology</td>\n",
       "      <td>Larry Ellison</td>\n",
       "      <td>78.0</td>\n",
       "      <td>United States</td>\n",
       "      <td>Lanai</td>\n",
       "      <td>Oracle</td>\n",
       "      <td>Technology</td>\n",
       "      <td>United States</td>\n",
       "      <td>...</td>\n",
       "      <td>7.5</td>\n",
       "      <td>$21,427,700,000,000</td>\n",
       "      <td>88.2</td>\n",
       "      <td>101.8</td>\n",
       "      <td>78.5</td>\n",
       "      <td>9.6</td>\n",
       "      <td>36.6</td>\n",
       "      <td>328239523.0</td>\n",
       "      <td>37.090240</td>\n",
       "      <td>-95.712891</td>\n",
       "    </tr>\n",
       "    <tr>\n",
       "      <th>4</th>\n",
       "      <td>5</td>\n",
       "      <td>106000</td>\n",
       "      <td>Finance &amp; Investments</td>\n",
       "      <td>Warren Buffett</td>\n",
       "      <td>92.0</td>\n",
       "      <td>United States</td>\n",
       "      <td>Omaha</td>\n",
       "      <td>Berkshire Hathaway</td>\n",
       "      <td>Finance &amp; Investments</td>\n",
       "      <td>United States</td>\n",
       "      <td>...</td>\n",
       "      <td>7.5</td>\n",
       "      <td>$21,427,700,000,000</td>\n",
       "      <td>88.2</td>\n",
       "      <td>101.8</td>\n",
       "      <td>78.5</td>\n",
       "      <td>9.6</td>\n",
       "      <td>36.6</td>\n",
       "      <td>328239523.0</td>\n",
       "      <td>37.090240</td>\n",
       "      <td>-95.712891</td>\n",
       "    </tr>\n",
       "  </tbody>\n",
       "</table>\n",
       "<p>5 rows × 31 columns</p>\n",
       "</div>"
      ]
     },
     "execution_count": 264,
     "metadata": {},
     "output_type": "execute_result"
    }
   ],
   "execution_count": 264
  },
  {
   "metadata": {
    "ExecuteTime": {
     "end_time": "2025-03-25T13:33:26.458737Z",
     "start_time": "2025-03-25T13:33:26.454730Z"
    }
   },
   "cell_type": "code",
   "source": "df.dtypes",
   "id": "d3bb0b251cc39f66",
   "outputs": [
    {
     "data": {
      "text/plain": [
       "rank                                            int64\n",
       "finalWorth                                      int64\n",
       "category                                       object\n",
       "personName                                     object\n",
       "age                                           float64\n",
       "country                                        object\n",
       "city                                           object\n",
       "source                                         object\n",
       "industries                                     object\n",
       "countryOfCitizenship                           object\n",
       "selfMade                                         bool\n",
       "status                                         object\n",
       "gender                                         object\n",
       "birthDate                                      object\n",
       "lastName                                       object\n",
       "firstName                                      object\n",
       "date                                           object\n",
       "birthYear                                     float64\n",
       "birthMonth                                    float64\n",
       "birthDay                                      float64\n",
       "cpi_country                                   float64\n",
       "cpi_change_country                            float64\n",
       "gdp_country                                    object\n",
       "gross_tertiary_education_enrollment           float64\n",
       "gross_primary_education_enrollment_country    float64\n",
       "life_expectancy_country                       float64\n",
       "tax_revenue_country_country                   float64\n",
       "total_tax_rate_country                        float64\n",
       "population_country                            float64\n",
       "latitude_country                              float64\n",
       "longitude_country                             float64\n",
       "dtype: object"
      ]
     },
     "execution_count": 265,
     "metadata": {},
     "output_type": "execute_result"
    }
   ],
   "execution_count": 265
  },
  {
   "metadata": {},
   "cell_type": "markdown",
   "source": [
    "In the table above we can see 31 features, mostly categorical but there are a plenty of numerical ones too.\n",
    "\n",
    "I will change the gpd_country and gender columns respectively from M and F to 0 and 1 and from dollars to integers, to be able to use it later along with numerical columns:"
   ],
   "id": "58c9c575511ed8bb"
  },
  {
   "metadata": {
    "ExecuteTime": {
     "end_time": "2025-03-25T13:33:26.532933Z",
     "start_time": "2025-03-25T13:33:26.527211Z"
    }
   },
   "cell_type": "code",
   "source": [
    "df['gender'] = df['gender'].map({'M': 0, 'F': 1})\n",
    "df['gdp_country'] = df['gdp_country'].replace('[$,]', '', regex=True).astype(float)"
   ],
   "id": "86db96ab3f109019",
   "outputs": [],
   "execution_count": 266
  },
  {
   "metadata": {},
   "cell_type": "markdown",
   "source": [
    "                                                                                                                                                                                                                                            \n",
    "### 3. Data analysis\n",
    "\n",
    "Now that we've prepared our data, we can finally work with it.\n",
    "\n",
    "First, I want to just get a better grasp of data - let's about where the billionaires are from, what's their gender ratio and other simple facts."
   ],
   "id": "2beecc911374b779"
  },
  {
   "metadata": {
    "ExecuteTime": {
     "end_time": "2025-03-25T13:33:26.559893Z",
     "start_time": "2025-03-25T13:33:26.557182Z"
    }
   },
   "cell_type": "code",
   "source": "len(df['country'].unique()) # How many countries are the billionaires from?",
   "id": "ed7e349b9b05073a",
   "outputs": [
    {
     "data": {
      "text/plain": [
       "79"
      ]
     },
     "execution_count": 267,
     "metadata": {},
     "output_type": "execute_result"
    }
   ],
   "execution_count": 267
  },
  {
   "metadata": {
    "ExecuteTime": {
     "end_time": "2025-03-25T13:33:26.779606Z",
     "start_time": "2025-03-25T13:33:26.695618Z"
    }
   },
   "cell_type": "code",
   "source": [
    "sorted_countries = df['country'].value_counts().sort_values(ascending=False).nlargest(10).index\n",
    "sns.countplot(df['country'], order=sorted_countries)\n",
    "plt.show()"
   ],
   "id": "5665f2bd0b840a6f",
   "outputs": [
    {
     "data": {
      "text/plain": [
       "<Figure size 640x480 with 1 Axes>"
      ],
      "image/png": "[encoded data removed]"
     },
     "metadata": {},
     "output_type": "display_data"
    }
   ],
   "execution_count": 268
  },
  {
   "metadata": {
    "ExecuteTime": {
     "end_time": "2025-03-25T13:33:26.883485Z",
     "start_time": "2025-03-25T13:33:26.784334Z"
    }
   },
   "cell_type": "code",
   "source": [
    "sns.countplot(df['category'], order=df['category'].value_counts().sort_values(ascending=False).index)\n",
    "plt.xticks(rotation=90)\n",
    "plt.show()"
   ],
   "id": "1694031f491f483f",
   "outputs": [
    {
     "data": {
      "text/plain": [
       "<Figure size 640x480 with 1 Axes>"
      ],
      "image/png": "[encoded data removed]"
     },
     "metadata": {},
     "output_type": "display_data"
    }
   ],
   "execution_count": 269
  },
  {
   "metadata": {
    "ExecuteTime": {
     "end_time": "2025-03-25T13:33:26.898299Z",
     "start_time": "2025-03-25T13:33:26.895607Z"
    }
   },
   "cell_type": "code",
   "source": [
    "m, f = df['gender'].value_counts()\n",
    "print(f\"{f / (f + m) * 100: .2f}% of billionaires are women.\")\n",
    "print(f\"{m / (f + m) * 100: .2f}% of billionaires are men.\")"
   ],
   "id": "ff4c935d0b7c7f83",
   "outputs": [
    {
     "name": "stdout",
     "output_type": "stream",
     "text": [
      " 12.77% of billionaires are women.\n",
      " 87.23% of billionaires are men.\n"
     ]
    }
   ],
   "execution_count": 270
  },
  {
   "metadata": {
    "ExecuteTime": {
     "end_time": "2025-03-25T13:35:53.123441Z",
     "start_time": "2025-03-25T13:35:52.995646Z"
    }
   },
   "cell_type": "code",
   "source": "sns.heatmap(df[['gender', 'finalWorth', 'birthYear', 'gdp_country', 'population_country', 'total_tax_rate_country']].corr(), annot=True)",
   "id": "6b924997e23e762e",
   "outputs": [
    {
     "data": {
      "text/plain": [
       "<Axes: >"
      ]
     },
     "execution_count": 275,
     "metadata": {},
     "output_type": "execute_result"
    },
    {
     "data": {
      "text/plain": [
       "<Figure size 640x480 with 2 Axes>"
      ],
      "image/png": "[encoded data removed]"
     },
     "metadata": {},
     "output_type": "display_data"
    }
   ],
   "execution_count": 275
  },
  {
   "metadata": {},
   "cell_type": "markdown",
   "source": "I wanted to see what variables are correlated to finalWorth and well, not much of them. I bet the country is of some significance in this case.",
   "id": "a508d6321676cdea"
  },
  {
   "metadata": {
    "ExecuteTime": {
     "end_time": "2025-03-25T13:43:07.385886Z",
     "start_time": "2025-03-25T13:43:07.379422Z"
    }
   },
   "cell_type": "code",
   "source": "df.groupby('country')['finalWorth'].agg(['mean', 'count']).query('count > 20').sort_values(by='mean', ascending=False)",
   "id": "28f33683edb1faa8",
   "outputs": [
    {
     "data": {
      "text/plain": [
       "                        mean  count\n",
       "country                            \n",
       "France          14271.428571     35\n",
       "United States    6067.771883    754\n",
       "Spain            5348.000000     25\n",
       "Switzerland      5255.128205     78\n",
       "Indonesia        4956.000000     25\n",
       "Hong Kong        4727.941176     68\n",
       "Germany          4530.392157    102\n",
       "United Kingdom   4520.731707     82\n",
       "Russia           4443.037975     79\n",
       "Canada           4140.476190     42\n",
       "Australia        4034.883721     43\n",
       "India            4004.458599    157\n",
       "Japan            3863.157895     38\n",
       "Thailand         3596.428571     28\n",
       "Sweden           3496.153846     26\n",
       "China            3452.198853    523\n",
       "Singapore        3000.000000     46\n",
       "Italy            2852.727273     55\n",
       "South Korea      2806.896552     29\n",
       "Israel           2788.461538     26\n",
       "Taiwan           2741.860465     43\n",
       "Brazil           2381.818182     44\n",
       "Turkey           2228.000000     25"
      ],
      "text/html": [
       "<div>\n",
       "<style scoped>\n",
       "    .dataframe tbody tr th:only-of-type {\n",
       "        vertical-align: middle;\n",
       "    }\n",
       "\n",
       "    .dataframe tbody tr th {\n",
       "        vertical-align: top;\n",
       "    }\n",
       "\n",
       "    .dataframe thead th {\n",
       "        text-align: right;\n",
       "    }\n",
       "</style>\n",
       "<table border=\"1\" class=\"dataframe\">\n",
       "  <thead>\n",
       "    <tr style=\"text-align: right;\">\n",
       "      <th></th>\n",
       "      <th>mean</th>\n",
       "      <th>count</th>\n",
       "    </tr>\n",
       "    <tr>\n",
       "      <th>country</th>\n",
       "      <th></th>\n",
       "      <th></th>\n",
       "    </tr>\n",
       "  </thead>\n",
       "  <tbody>\n",
       "    <tr>\n",
       "      <th>France</th>\n",
       "      <td>14271.428571</td>\n",
       "      <td>35</td>\n",
       "    </tr>\n",
       "    <tr>\n",
       "      <th>United States</th>\n",
       "      <td>6067.771883</td>\n",
       "      <td>754</td>\n",
       "    </tr>\n",
       "    <tr>\n",
       "      <th>Spain</th>\n",
       "      <td>5348.000000</td>\n",
       "      <td>25</td>\n",
       "    </tr>\n",
       "    <tr>\n",
       "      <th>Switzerland</th>\n",
       "      <td>5255.128205</td>\n",
       "      <td>78</td>\n",
       "    </tr>\n",
       "    <tr>\n",
       "      <th>Indonesia</th>\n",
       "      <td>4956.000000</td>\n",
       "      <td>25</td>\n",
       "    </tr>\n",
       "    <tr>\n",
       "      <th>Hong Kong</th>\n",
       "      <td>4727.941176</td>\n",
       "      <td>68</td>\n",
       "    </tr>\n",
       "    <tr>\n",
       "      <th>Germany</th>\n",
       "      <td>4530.392157</td>\n",
       "      <td>102</td>\n",
       "    </tr>\n",
       "    <tr>\n",
       "      <th>United Kingdom</th>\n",
       "      <td>4520.731707</td>\n",
       "      <td>82</td>\n",
       "    </tr>\n",
       "    <tr>\n",
       "      <th>Russia</th>\n",
       "      <td>4443.037975</td>\n",
       "      <td>79</td>\n",
       "    </tr>\n",
       "    <tr>\n",
       "      <th>Canada</th>\n",
       "      <td>4140.476190</td>\n",
       "      <td>42</td>\n",
       "    </tr>\n",
       "    <tr>\n",
       "      <th>Australia</th>\n",
       "      <td>4034.883721</td>\n",
       "      <td>43</td>\n",
       "    </tr>\n",
       "    <tr>\n",
       "      <th>India</th>\n",
       "      <td>4004.458599</td>\n",
       "      <td>157</td>\n",
       "    </tr>\n",
       "    <tr>\n",
       "      <th>Japan</th>\n",
       "      <td>3863.157895</td>\n",
       "      <td>38</td>\n",
       "    </tr>\n",
       "    <tr>\n",
       "      <th>Thailand</th>\n",
       "      <td>3596.428571</td>\n",
       "      <td>28</td>\n",
       "    </tr>\n",
       "    <tr>\n",
       "      <th>Sweden</th>\n",
       "      <td>3496.153846</td>\n",
       "      <td>26</td>\n",
       "    </tr>\n",
       "    <tr>\n",
       "      <th>China</th>\n",
       "      <td>3452.198853</td>\n",
       "      <td>523</td>\n",
       "    </tr>\n",
       "    <tr>\n",
       "      <th>Singapore</th>\n",
       "      <td>3000.000000</td>\n",
       "      <td>46</td>\n",
       "    </tr>\n",
       "    <tr>\n",
       "      <th>Italy</th>\n",
       "      <td>2852.727273</td>\n",
       "      <td>55</td>\n",
       "    </tr>\n",
       "    <tr>\n",
       "      <th>South Korea</th>\n",
       "      <td>2806.896552</td>\n",
       "      <td>29</td>\n",
       "    </tr>\n",
       "    <tr>\n",
       "      <th>Israel</th>\n",
       "      <td>2788.461538</td>\n",
       "      <td>26</td>\n",
       "    </tr>\n",
       "    <tr>\n",
       "      <th>Taiwan</th>\n",
       "      <td>2741.860465</td>\n",
       "      <td>43</td>\n",
       "    </tr>\n",
       "    <tr>\n",
       "      <th>Brazil</th>\n",
       "      <td>2381.818182</td>\n",
       "      <td>44</td>\n",
       "    </tr>\n",
       "    <tr>\n",
       "      <th>Turkey</th>\n",
       "      <td>2228.000000</td>\n",
       "      <td>25</td>\n",
       "    </tr>\n",
       "  </tbody>\n",
       "</table>\n",
       "</div>"
      ]
     },
     "execution_count": 289,
     "metadata": {},
     "output_type": "execute_result"
    }
   ],
   "execution_count": 289
  },
  {
   "metadata": {
    "ExecuteTime": {
     "end_time": "2025-03-25T13:43:09.397258Z",
     "start_time": "2025-03-25T13:43:09.390350Z"
    }
   },
   "cell_type": "code",
   "source": "df.groupby('country')['finalWorth'].agg(['mean', 'count']).query('country == \"Poland\"').sort_values(by='mean', ascending=False)\n",
   "id": "d127314ec77beddc",
   "outputs": [
    {
     "data": {
      "text/plain": [
       "           mean  count\n",
       "country               \n",
       "Poland   3660.0      5"
      ],
      "text/html": [
       "<div>\n",
       "<style scoped>\n",
       "    .dataframe tbody tr th:only-of-type {\n",
       "        vertical-align: middle;\n",
       "    }\n",
       "\n",
       "    .dataframe tbody tr th {\n",
       "        vertical-align: top;\n",
       "    }\n",
       "\n",
       "    .dataframe thead th {\n",
       "        text-align: right;\n",
       "    }\n",
       "</style>\n",
       "<table border=\"1\" class=\"dataframe\">\n",
       "  <thead>\n",
       "    <tr style=\"text-align: right;\">\n",
       "      <th></th>\n",
       "      <th>mean</th>\n",
       "      <th>count</th>\n",
       "    </tr>\n",
       "    <tr>\n",
       "      <th>country</th>\n",
       "      <th></th>\n",
       "      <th></th>\n",
       "    </tr>\n",
       "  </thead>\n",
       "  <tbody>\n",
       "    <tr>\n",
       "      <th>Poland</th>\n",
       "      <td>3660.0</td>\n",
       "      <td>5</td>\n",
       "    </tr>\n",
       "  </tbody>\n",
       "</table>\n",
       "</div>"
      ]
     },
     "execution_count": 290,
     "metadata": {},
     "output_type": "execute_result"
    }
   ],
   "execution_count": 290
  },
  {
   "metadata": {
    "ExecuteTime": {
     "end_time": "2025-03-25T14:05:10.035034Z",
     "start_time": "2025-03-25T14:05:10.030008Z"
    }
   },
   "cell_type": "code",
   "source": [
    "df.groupby('gender')['finalWorth'].agg(['mean', 'count']).sort_values(by='mean', ascending=False)\n",
    "# Here we can se that gender has no correlation to networth if you're already a billionaire - women are either distributed linearly throughout the billionaire list or in some kind of clusters, but I do not see any reason for the latter to happen."
   ],
   "id": "76e393092e48514f",
   "outputs": [
    {
     "data": {
      "text/plain": [
       "               mean  count\n",
       "gender                    \n",
       "0       4631.610942   2303\n",
       "1       4570.326409    337"
      ],
      "text/html": [
       "<div>\n",
       "<style scoped>\n",
       "    .dataframe tbody tr th:only-of-type {\n",
       "        vertical-align: middle;\n",
       "    }\n",
       "\n",
       "    .dataframe tbody tr th {\n",
       "        vertical-align: top;\n",
       "    }\n",
       "\n",
       "    .dataframe thead th {\n",
       "        text-align: right;\n",
       "    }\n",
       "</style>\n",
       "<table border=\"1\" class=\"dataframe\">\n",
       "  <thead>\n",
       "    <tr style=\"text-align: right;\">\n",
       "      <th></th>\n",
       "      <th>mean</th>\n",
       "      <th>count</th>\n",
       "    </tr>\n",
       "    <tr>\n",
       "      <th>gender</th>\n",
       "      <th></th>\n",
       "      <th></th>\n",
       "    </tr>\n",
       "  </thead>\n",
       "  <tbody>\n",
       "    <tr>\n",
       "      <th>0</th>\n",
       "      <td>4631.610942</td>\n",
       "      <td>2303</td>\n",
       "    </tr>\n",
       "    <tr>\n",
       "      <th>1</th>\n",
       "      <td>4570.326409</td>\n",
       "      <td>337</td>\n",
       "    </tr>\n",
       "  </tbody>\n",
       "</table>\n",
       "</div>"
      ]
     },
     "execution_count": 293,
     "metadata": {},
     "output_type": "execute_result"
    }
   ],
   "execution_count": 293
  },
  {
   "metadata": {},
   "cell_type": "code",
   "outputs": [],
   "execution_count": null,
   "source": "",
   "id": "e744ceee1d923232"
  }
 ],
 "metadata": {
  "kernelspec": {
   "display_name": "Python 3",
   "language": "python",
   "name": "python3"
  },
  "language_info": {
   "codemirror_mode": {
    "name": "ipython",
    "version": 2
   },
   "file_extension": ".py",
   "mimetype": "text/x-python",
   "name": "python",
   "nbconvert_exporter": "python",
   "pygments_lexer": "ipython2",
   "version": "2.7.6"
  }
 },
 "nbformat": 4,
 "nbformat_minor": 5
}
